{
 "cells": [
  {
   "cell_type": "markdown",
   "metadata": {},
   "source": [
    "<img src=\"http://imgur.com/1ZcRyrc.png\" style=\"float: left; margin: 15px; height: 80px\">\n",
    "\n",
    "# Project 1\n",
    "\n",
    "### Review python syntax, structure, and concepts.\n",
    "\n",
    "---\n",
    "\n",
    "Project 1 is designed to be review and practice of python programming competencies.\n",
    "\n",
    "Please see the [Project Section Guide](https://github.com/ga-students/DSI-SF-4/wiki/Project-Section-Guide) on the github wiki for review of the color-coding of problems.\n"
   ]
  },
  {
   "cell_type": "markdown",
   "metadata": {},
   "source": [
    "<img src=\"http://imgur.com/l5NasQj.png\" style=\"float: left; margin: 25px 15px 0px 0px; height: 25px\">\n",
    "\n",
    "## Review Problem 1\n",
    "\n",
    "---\n",
    "\n",
    "For this problem you will be writing a function that the supplied dictionary `input_dict` and operates on it.\n",
    "\n",
    "Define a function that:\n",
    "\n",
    "- Accepts 1 argument, which will be a dictionary.\n",
    "- Prints the dictionary.\n",
    "- Iterates through the key:value pairs of the dictionary:\n",
    "    - For pairs where the key starts with a lowercase vowel, change the value to \"vowel\".\n",
    "    - For pairs where the key starts with a lowercase consonant, change the value to \"consonant\".\n",
    "    - Remove all other pairs from the dictionary.\n",
    "- Prints the modified dictionary.\n",
    "- Returns the modified dictionary.\n",
    "\n",
    "Notes/Hints:\n",
    " \n",
    "- ```string.ascii_lowercase``` is a string of all the lowercase letters in the alphabet. to use it you need to **import string** at the beginning of your script.\n",
    "- You can check if a character is in a string with **in**. \n",
    "    - ex: \n",
    "        ```python\n",
    "        if ch in st:\n",
    "        ```\n",
    "- You can create a new dictionary to store the modified return values or operate on the input dictionary.\n",
    "- You can check types using the ```type()``` python function:\n",
    "    ```python\n",
    "    type(1) == int\n",
    "    type(1.2) == float\n",
    "    type('ab') == str\n",
    "    type((1,2)) == tuple\n",
    "    type([3,2]) == list\n",
    "    type({'a':'b'}) == dict\n",
    "    ```"
   ]
  },
  {
   "cell_type": "code",
   "execution_count": 1,
   "metadata": {
    "collapsed": true
   },
   "outputs": [],
   "source": [
    "input_dict = {'list':[1,2,3,4], 'tuple':('cat', 'dog'), 'integer':1, \n",
    "              'float':99.99, 1:'integer', 2:'integer_2', 'Uppercase_string':'ABCD',\n",
    "              'CHARACTER':'C'}"
   ]
  },
  {
   "cell_type": "markdown",
   "metadata": {},
   "source": [
    "#### Define your function below:"
   ]
  },
  {
   "cell_type": "code",
   "execution_count": 2,
   "metadata": {
    "collapsed": true
   },
   "outputs": [],
   "source": [
    "import string\n",
    "\n",
    "# print out key/value pairs from dictionary\n",
    "def print_dict(input_dict):\n",
    "    for key, values in input_dict.items():\n",
    "        print(key, ':', values)\n",
    "        \n",
    "# define a function that loops through the dictionary entries, removes and changes some as per requirements\n",
    "def process_dict(input_dict):\n",
    "    print(\"\\nInput dictionary:\")\n",
    "    print_dict(input_dict)\n",
    "    # setup vowels definition and empty dictionary to return new values\n",
    "    vowels = ['a', 'e', 'i', 'o', 'u']\n",
    "    # initialise empty dictionary\n",
    "    new_dict = {}\n",
    "\n",
    "    # loop through all dictionary values\n",
    "    for keys,values in input_dict.items():\n",
    "        #print(\"key =\", keys, \" value =\", values)\n",
    "        # only add entry if the key is a string and starts with a letter\n",
    "        if type(keys) is str and keys[0].lower() in string.ascii_lowercase:\n",
    "            # check if the character is a vowel, change value in dictionary\n",
    "            if keys[0].lower() in vowels:\n",
    "                new_dict[keys] = \"vowel\"\n",
    "            # value is a consonant, change value in dictionary\n",
    "            else:\n",
    "                new_dict[keys] = \"consonant\"\n",
    "    \n",
    "    print(\"\\nModified dictionary:\")\n",
    "    print_dict(new_dict)\n",
    "    return new_dict"
   ]
  },
  {
   "cell_type": "markdown",
   "metadata": {},
   "source": [
    "#### Run your function with the `input_dict`:"
   ]
  },
  {
   "cell_type": "code",
   "execution_count": 3,
   "metadata": {
    "collapsed": false
   },
   "outputs": [
    {
     "name": "stdout",
     "output_type": "stream",
     "text": [
      "\n",
      "Input dictionary:\n",
      "list : [1, 2, 3, 4]\n",
      "tuple : ('cat', 'dog')\n",
      "integer : 1\n",
      "float : 99.99\n",
      "1 : integer\n",
      "2 : integer_2\n",
      "Uppercase_string : ABCD\n",
      "CHARACTER : C\n",
      "\n",
      "Modified dictionary:\n",
      "list : consonant\n",
      "tuple : consonant\n",
      "integer : vowel\n",
      "float : consonant\n",
      "Uppercase_string : vowel\n",
      "CHARACTER : consonant\n"
     ]
    },
    {
     "data": {
      "text/plain": [
       "{'CHARACTER': 'consonant',\n",
       " 'Uppercase_string': 'vowel',\n",
       " 'float': 'consonant',\n",
       " 'integer': 'vowel',\n",
       " 'list': 'consonant',\n",
       " 'tuple': 'consonant'}"
      ]
     },
     "execution_count": 3,
     "metadata": {},
     "output_type": "execute_result"
    }
   ],
   "source": [
    "new_dict = process_dict(input_dict)\n",
    "new_dict"
   ]
  },
  {
   "cell_type": "markdown",
   "metadata": {},
   "source": [
    "<img src=\"http://imgur.com/l5NasQj.png\" style=\"float: left; margin: 25px 15px 0px 0px; height: 25px\">\n",
    "\n",
    "## Review Problem 2\n",
    "\n",
    "---\n",
    "\n",
    "Write a function that operates on a dictionary and an optional list of numbers.\n",
    "\n",
    "Define a function that:\n",
    "\n",
    "- Accepts a dictionary as its first argument. The values of the dictionary should be a list of numbers.\n",
    "- Accepts an optional keyword argument that will be a list. The default should be an empty list. Name the optional keyword list `remainder`.\n",
    "- If `remainder` is empty: append a 2 to `remainder`.\n",
    "- Print the dictionary as well as `remainder`.\n",
    "- Iterate though they key:value pairs in the dictionary:\n",
    "    - For each value list of numbers, calculate the remainder of each number for each number in the `remainder` list.\n",
    "    - Create a dictionary where the keys are the numbers in the value list, and the values are the remainders of that number from the remainder list.\n",
    "    - ex: if a value in the dictionary is `[10,9]` and `remainder` is `[2,3]`, the new dictionary would be: `{10:[0, 1], 9:[1, 0]}`\n",
    "    - Keep the original key of the input dictionary, but change the value to the new dictionary of remainders.\n",
    "- Print out the final output dictionary.\n",
    "- Return the output dictionary.\n",
    "\n",
    "Notes/Hints:\n",
    "\n",
    "- keyword arguments are specified in functions like so: \n",
    "    ```python\n",
    "    def example_function(arg1, kwarg1=default_value):\n",
    "    ```\n",
    "- The operator for finding the remainder of two values is \"modulus\": ```%```\n",
    "    ```python\n",
    "    14 % 5 == 4\n",
    "    ```"
   ]
  },
  {
   "cell_type": "code",
   "execution_count": 4,
   "metadata": {
    "collapsed": true
   },
   "outputs": [],
   "source": [
    "test_dict = {'A':[1,2,3,4,5], 'B':[12.1, 14.2, 20.3, 25.4], 'C':[10, 25.5, 50.9, 101]}\n",
    "optional_remainder = [2,3,4,5]"
   ]
  },
  {
   "cell_type": "markdown",
   "metadata": {},
   "source": [
    "#### Define your function below:"
   ]
  },
  {
   "cell_type": "code",
   "execution_count": 5,
   "metadata": {
    "collapsed": true
   },
   "outputs": [],
   "source": [
    "# print out key/value pairs from dictionary\n",
    "def print_dict(input_dict):\n",
    "    for key, values in input_dict.items():\n",
    "        print(key, ':', values)\n",
    "        \n",
    "# define a function that loops through the dictionary entries and processes as per requirements\n",
    "def process_dict(input_dict, remainder=[]):\n",
    "    # if remainder is empty append a 2\n",
    "    if not remainder:\n",
    "        remainder.append(2)\n",
    "\n",
    "    print(\"\\nInput dictionary:\")\n",
    "    print_dict(input_dict)\n",
    "    print(\"Remainder:\", remainder)\n",
    "\t\n",
    "    output_dict = {}\n",
    "    for keys,values in input_dict.items():\n",
    "        for val in values:\n",
    "            rem_list = []\n",
    "            # calculate the remainder of each number for each number in the remainder list\n",
    "            for rem in remainder:\n",
    "                #print(val % rem)\n",
    "                rem_list.append(int(val % rem))\n",
    "            #print(val, rem_list)\n",
    "            # keys are the numbers in the value list, values are the remainders of that number from the remainder list\n",
    "            output_dict[val] = rem_list\n",
    "\n",
    "    print(\"\\nOutput dictionary:\")\n",
    "    print_dict(output_dict)\n",
    "    return output_dict"
   ]
  },
  {
   "cell_type": "markdown",
   "metadata": {},
   "source": [
    "#### Run the function with `test_dict` only:"
   ]
  },
  {
   "cell_type": "code",
   "execution_count": 6,
   "metadata": {
    "collapsed": false
   },
   "outputs": [
    {
     "name": "stdout",
     "output_type": "stream",
     "text": [
      "\n",
      "Input dictionary:\n",
      "A : [1, 2, 3, 4, 5]\n",
      "B : [12.1, 14.2, 20.3, 25.4]\n",
      "C : [10, 25.5, 50.9, 101]\n",
      "Remainder: [2]\n",
      "\n",
      "Output dictionary:\n",
      "1 : [1]\n",
      "2 : [0]\n",
      "3 : [1]\n",
      "4 : [0]\n",
      "5 : [1]\n",
      "12.1 : [0]\n",
      "14.2 : [0]\n",
      "20.3 : [0]\n",
      "25.4 : [1]\n",
      "10 : [0]\n",
      "25.5 : [1]\n",
      "50.9 : [0]\n",
      "101 : [1]\n"
     ]
    },
    {
     "data": {
      "text/plain": [
       "{1: [1],\n",
       " 2: [0],\n",
       " 3: [1],\n",
       " 4: [0],\n",
       " 5: [1],\n",
       " 10: [0],\n",
       " 12.1: [0],\n",
       " 14.2: [0],\n",
       " 20.3: [0],\n",
       " 25.4: [1],\n",
       " 25.5: [1],\n",
       " 50.9: [0],\n",
       " 101: [1]}"
      ]
     },
     "execution_count": 6,
     "metadata": {},
     "output_type": "execute_result"
    }
   ],
   "source": [
    "process_dict(test_dict)"
   ]
  },
  {
   "cell_type": "markdown",
   "metadata": {},
   "source": [
    "#### Run the function with `test_dict` and `optional_remainder`:"
   ]
  },
  {
   "cell_type": "code",
   "execution_count": 7,
   "metadata": {
    "collapsed": false
   },
   "outputs": [
    {
     "name": "stdout",
     "output_type": "stream",
     "text": [
      "\n",
      "Input dictionary:\n",
      "A : [1, 2, 3, 4, 5]\n",
      "B : [12.1, 14.2, 20.3, 25.4]\n",
      "C : [10, 25.5, 50.9, 101]\n",
      "Remainder: [2, 3, 4, 5]\n",
      "\n",
      "Output dictionary:\n",
      "1 : [1, 1, 1, 1]\n",
      "2 : [0, 2, 2, 2]\n",
      "3 : [1, 0, 3, 3]\n",
      "4 : [0, 1, 0, 4]\n",
      "5 : [1, 2, 1, 0]\n",
      "12.1 : [0, 0, 0, 2]\n",
      "14.2 : [0, 2, 2, 4]\n",
      "20.3 : [0, 2, 0, 0]\n",
      "25.4 : [1, 1, 1, 0]\n",
      "10 : [0, 1, 2, 0]\n",
      "25.5 : [1, 1, 1, 0]\n",
      "50.9 : [0, 2, 2, 0]\n",
      "101 : [1, 2, 1, 1]\n"
     ]
    },
    {
     "data": {
      "text/plain": [
       "{1: [1, 1, 1, 1],\n",
       " 2: [0, 2, 2, 2],\n",
       " 3: [1, 0, 3, 3],\n",
       " 4: [0, 1, 0, 4],\n",
       " 5: [1, 2, 1, 0],\n",
       " 10: [0, 1, 2, 0],\n",
       " 12.1: [0, 0, 0, 2],\n",
       " 14.2: [0, 2, 2, 4],\n",
       " 20.3: [0, 2, 0, 0],\n",
       " 25.4: [1, 1, 1, 0],\n",
       " 25.5: [1, 1, 1, 0],\n",
       " 50.9: [0, 2, 2, 0],\n",
       " 101: [1, 2, 1, 1]}"
      ]
     },
     "execution_count": 7,
     "metadata": {},
     "output_type": "execute_result"
    }
   ],
   "source": [
    "process_dict(test_dict, optional_remainder)"
   ]
  },
  {
   "cell_type": "markdown",
   "metadata": {},
   "source": [
    "<img src=\"http://imgur.com/l5NasQj.png\" style=\"float: left; margin: 25px 15px 0px 0px; height: 25px\">\n",
    "\n",
    "## Review Problem 3\n",
    "\n",
    "---\n",
    "\n",
    "Write a function that will iterate through two lists and perform an operation.\n",
    "\n",
    "Define a function that:\n",
    "\n",
    "- Accepts two arguments that are lists of numbers (either float or integer):\n",
    "- Print both of the lists.\n",
    "- Construct a `while` loop that:\n",
    "    - Prints the current iteration number, starting at 1.\n",
    "        ```python\n",
    "        Iteration: 1\n",
    "        ```\n",
    "    - Iterates through each element of both lists at the same time using a `for` loop, assigning the number from list 1 to a variable `value1` and the number from list 2 to a variable `value2`. For example, if `list1 == [1, 2]` and `list2 == [3, 4]`, there will be two iterations through the `for` loop:\n",
    "        - Iteration 1 will have ```value1 == 1``` and ```value2 == 3```\n",
    "        - Iteration 2 will have ```value2 == 2``` and ```value2 == 4```\n",
    "    - Within the `for` loop:\n",
    "        - Multiply `value1` and `value2` together and assign it to variable `multiplied`.\n",
    "        - Print `multiplied`.\n",
    "        - If `multiplied` is greater than 300, break out of the `for` loop and `while` loop.\n",
    "        - Otherwise, multiply each element of list 1 and list 2 by 2 before continuing through the `while` loop\n",
    "- Print \"Function complete.\"\n",
    "\n",
    "Notes/Hints:\n",
    "\n",
    "- To break out of a for loop or while loop at any time, use the `break` command.\n",
    "    - ex: \n",
    "        ```python\n",
    "        for i in my_list: \n",
    "            if i > 10: \n",
    "                break\n",
    "        ```\n",
    "- The `zip()` function will join lists/tuples element by element.\n",
    "    - ex:\n",
    "        ```python\n",
    "        zip([1,2], [3,4]) == [(1, 3), (2, 4)]\n",
    "        ```\n",
    "    - In a `for` loop, you can assign multiple variables at a time:\n",
    "        ```python\n",
    "        for value1, value2 in zip(list1, list2):\n",
    "        ```\n",
    "- `while True` can run a loop until a `break` condition is reached. Be careful!"
   ]
  },
  {
   "cell_type": "code",
   "execution_count": 8,
   "metadata": {
    "collapsed": true
   },
   "outputs": [],
   "source": [
    "list1 = [1.5,3.5,5.5,7.5]\n",
    "list2 = [0,4,8,12]"
   ]
  },
  {
   "cell_type": "markdown",
   "metadata": {},
   "source": [
    "#### Define your function below:"
   ]
  },
  {
   "cell_type": "code",
   "execution_count": 9,
   "metadata": {
    "collapsed": true
   },
   "outputs": [],
   "source": [
    "def process_lists(numlist1, numlist2):\n",
    "    print(\"first list =\", numlist1, \"second list =\", numlist2)\n",
    "    iteration = 1\n",
    "    multiplied = 0\n",
    "    \n",
    "    while iteration < 1000: # set a high limit just in case to prevent infinite looping\n",
    "        print(\"iteration \", iteration)\n",
    "        iteration += 1\n",
    "        \n",
    "        # use zip for easier looping of both lists\n",
    "        for value1, value2 in zip(numlist1, numlist2):\n",
    "            #print(value1, value2, \" \", end=\"\")\n",
    "            multiplied = value1 * value2\n",
    "            print(\"multiplied = \", multiplied)\n",
    "            \n",
    "            # break out of for loop if termination condition reached\n",
    "            if multiplied > 300:\n",
    "                break\n",
    "\n",
    "        # break out of while loop if termination condition reached\n",
    "        # see function process_lists_2 below for alternative solution to 2 breaks\n",
    "        if multiplied > 300:\n",
    "            print(\"Function complete.\")\n",
    "            break\n",
    "\n",
    "        # update each element in both lists by 2\n",
    "        numlist1 = [i*2 for i in numlist1]\n",
    "        numlist2 = [i*2 for i in numlist2]"
   ]
  },
  {
   "cell_type": "markdown",
   "metadata": {},
   "source": [
    "#### Run your function with arguments `list1` and `list2`"
   ]
  },
  {
   "cell_type": "code",
   "execution_count": 10,
   "metadata": {
    "collapsed": false
   },
   "outputs": [
    {
     "name": "stdout",
     "output_type": "stream",
     "text": [
      "first list = [1.5, 3.5, 5.5, 7.5] second list = [0, 4, 8, 12]\n",
      "iteration  1\n",
      "multiplied =  0.0\n",
      "multiplied =  14.0\n",
      "multiplied =  44.0\n",
      "multiplied =  90.0\n",
      "iteration  2\n",
      "multiplied =  0.0\n",
      "multiplied =  56.0\n",
      "multiplied =  176.0\n",
      "multiplied =  360.0\n",
      "Function complete.\n"
     ]
    }
   ],
   "source": [
    "process_lists(list1, list2)"
   ]
  },
  {
   "cell_type": "markdown",
   "metadata": {},
   "source": [
    "<img src=\"http://imgur.com/l5NasQj.png\" style=\"float: left; margin: 25px 15px 0px 0px; height: 25px\">\n",
    "\n",
    "## Review Problem 4\n",
    "\n",
    "---\n",
    "\n",
    "Write a function that calculates summary statistics for distributions.\n",
    "\n",
    "Define a function that:\n",
    "\n",
    "- Accepts two arguments, `i` and `numbers`.\n",
    "- Prints a string indicating what the current `i` is.\n",
    "- Calculate, without using numpy, the mean of `numbers`.\n",
    "- Calculate, without using numpy, the median of `numbers`.\n",
    "- Print the mean and median, for example:\n",
    "    ```python\n",
    "    mean: 12\n",
    "    median: 9\n",
    "    ```\n",
    "    \n",
    "Notes/Hints:\n",
    "\n",
    "- You should define your function _outside_ of the provided `for` loop, and then call it with `i` and `numbers` within the `for` loop.\n",
    "- `for i in range(1, 15, 2)` assigns `i` from 1 to 15 with a step size of 2."
   ]
  },
  {
   "cell_type": "markdown",
   "metadata": {},
   "source": [
    "#### Define your function(s) below:"
   ]
  },
  {
   "cell_type": "code",
   "execution_count": 11,
   "metadata": {
    "collapsed": true
   },
   "outputs": [],
   "source": [
    "def summary_stats(i, numbers):\n",
    "    print(\"i is\", i, end=\"\")\n",
    "\n",
    "    ### calculate mean\n",
    "    sum = 0\n",
    "    for num in numbers:\n",
    "        sum += num\n",
    "    mean = sum/len(numbers)\n",
    "    print(\" mean =\", mean, end=\"\")\n",
    "\n",
    "    ### calculate median\n",
    "    numbers = sorted(numbers)\n",
    "    # define convenient lambda functions to do the median calculations\n",
    "    middle_index = lambda n: int(n/2. - 0.5)\n",
    "    lower_index = lambda n: n/2 - 1\n",
    "    upper_index = lambda n: n/2\n",
    "    # populate the medians list:\n",
    "    n = len(numbers)\n",
    "    if n % 2 == 0:\n",
    "        # average 2 middle values\n",
    "        median = (numbers[lower_index(n)] + numbers[upper_index(n)]) / 2.\n",
    "    else:\n",
    "        # take middle value\n",
    "        median = numbers[middle_index(n)]\n",
    "    print(\" median =\", median)"
   ]
  },
  {
   "cell_type": "markdown",
   "metadata": {},
   "source": [
    "#### Run your function with the provided for-loop below (in place of `q5_func`)"
   ]
  },
  {
   "cell_type": "code",
   "execution_count": 12,
   "metadata": {
    "collapsed": false
   },
   "outputs": [
    {
     "name": "stdout",
     "output_type": "stream",
     "text": [
      "i is 1 mean = 0.0 median = 0\n",
      "i is 3 mean = 33.336633663366335 median = 25\n",
      "i is 5 mean = 39.603960396039604 median = 37\n",
      "i is 7 mean = 42.722772277227726 median = 41\n",
      "i is 9 mean = 44.118811881188115 median = 43\n",
      "i is 11 mean = 45.0990099009901 median = 45\n",
      "i is 13 mean = 46.396039603960396 median = 46\n"
     ]
    }
   ],
   "source": [
    "import numpy as np\n",
    "\n",
    "# Provided for loop for i and numbers:\n",
    "for i in range(1, 15, 2):\n",
    "    numbers = [x if not x % i == 0 else 0 for x in range(101)]\n",
    "    \n",
    "    # Call your function here using i and numbers:\n",
    "    summary_stats(i, numbers)"
   ]
  },
  {
   "cell_type": "markdown",
   "metadata": {},
   "source": [
    "<img src=\"http://imgur.com/l5NasQj.png\" style=\"float: left; margin: 25px 15px 0px 0px; height: 25px\">\n",
    "\n",
    "## Review Problem 5\n",
    "\n",
    "---\n",
    "\n",
    "Define a function that calculates the [pearson correlation coefficient](https://en.wikipedia.org/wiki/Pearson_product-moment_correlation_coefficient) between two lists of numbers.\n",
    "\n",
    "Your function will:\n",
    "\n",
    "- Accept two arguments (the provided lists `X` and `Y`).\n",
    "- Print the length of `X` and `Y` like so:\n",
    "    ```python\n",
    "    Length of X: 40\n",
    "    Length of Y: 40\n",
    "    ```\n",
    "- Calculate the pearson correlation coefficient between the two lists and assign the value to variable `pearson_r`.\n",
    "    - Create a variable `X_deviation` that is each element of `X` minus the mean of `X`. \n",
    "    - Create a variable `Y_deviation` that is each element of `Y` minus the mean of `Y`.\n",
    "    - Create a variable `sqrt_X_deviation_sq` that is the square root of the sum of the square of each element of `X_deviation`.\n",
    "    - Create a variable `sqrt_Y_deviation_sq` that is the same thing you just did but for `Y_deviation`.\n",
    "    - Create a variable `sum_XY_deviation` that is the sum of each element of `X` and `Y` multiplied by each other, in order. You can use the `zip()` function to iterate through two lists at the same time:\n",
    "        ```python\n",
    "        for x_d, y_d in zip(X_deviation, Y_deviation):\n",
    "        ```\n",
    "    - `pearson_r` is equal to `sum_XY_deviation` divided by `(sqrt_X_deviation_sq * sqrt_Y_deviation_sq)`.\n",
    "- Print `pearson_r`.\n",
    "- Check if it is the same as numpy's correlation function. Print `np.corrcoef(X, Y)[0,1]`\n",
    "    "
   ]
  },
  {
   "cell_type": "code",
   "execution_count": 13,
   "metadata": {
    "collapsed": true
   },
   "outputs": [],
   "source": [
    "X = [14.2,5.8,4.8,12.7,5.6,-1.2,5.3,11.9,4.8,8.1,1.5,8.5,14.9,6.1,\n",
    "     6.8,12.6,15.5,24.3,15.6,16.8,22.3,22.6,26.2,19.0,24.3,26.3,\n",
    "     25.3,31.6,27.3,33.0,32.6,30.7,29.6,34.7,32.7,43.1,40.1,35.4,49.6,38.6]\n",
    "\n",
    "Y = [-15.5,-8.5,0.8,-3.9,4.9,12.7,10.0,16.5,5.7,13.1,10.3,12.4,-1.5,\n",
    "     1.7,26.0,14.3,30.3,21.7,27.5,38.2,18.9,21.2,18.2,26.1,14.7,16.4,\n",
    "     22.8,34.3,37.1,38.9,39.1,33.8,52.2,36.5,20.7,21.6,14.5,33.6,44.5,44.2]"
   ]
  },
  {
   "cell_type": "markdown",
   "metadata": {},
   "source": [
    "#### Define your function below:"
   ]
  },
  {
   "cell_type": "code",
   "execution_count": 14,
   "metadata": {
    "collapsed": true
   },
   "outputs": [],
   "source": [
    "import numpy as np\n",
    "\n",
    "def calculate_pearson(X, Y):\n",
    "    print(\"Length of X:\", len(X))\n",
    "    print(\"Length of Y:\", len(Y))\n",
    "    \n",
    "    # calculate the X and Y deviations from the mean\n",
    "    meanX = np.mean(X)\n",
    "    X_deviation = [(x - meanX) for x in X]\n",
    "    meanY = numpy.mean(Y)\n",
    "    Y_deviation = [(y - meanY) for y in Y]    \n",
    "    #print(X_deviation, Y_deviation)\n",
    "    \n",
    "    # calculate the square root of the sum of the square of each element of X_deviation and Y_deviation\n",
    "    sqrt_X_deviation_sq = numpy.sqrt(sum([x ** 2 for x in X_deviation]))\n",
    "    sqrt_Y_deviation_sq = numpy.sqrt(sum([y ** 2 for y in Y_deviation]))\n",
    "    #print(sqrt_X_deviation_sq, sqrt_Y_deviation_sq)\n",
    "\n",
    "    # calculate the sum of each element of X_deviation and Y_deviation multiplied by each other\n",
    "    sum_XY_deviation = 0\n",
    "    for value1, value2 in zip(X_deviation, Y_deviation):\n",
    "        sum_XY_deviation += value1 * value2\n",
    "    #print(sum_XY_deviation)\n",
    "    \n",
    "    #calculate pearson coefficient\n",
    "    pearson_r = sum_XY_deviation / (sqrt_X_deviation_sq * sqrt_Y_deviation_sq)\n",
    "    print(\"pearson_r =\", pearson_r)\n",
    "    print(\"numpy.corrcoef(X, Y)[0,1] =\", np.corrcoef(X, Y)[0,1])"
   ]
  },
  {
   "cell_type": "markdown",
   "metadata": {},
   "source": [
    "#### Run your function on `X` and `Y`:"
   ]
  },
  {
   "cell_type": "code",
   "execution_count": 15,
   "metadata": {
    "collapsed": false
   },
   "outputs": [
    {
     "name": "stdout",
     "output_type": "stream",
     "text": [
      "Length of X: 40\n",
      "Length of Y: 40\n"
     ]
    },
    {
     "ename": "NameError",
     "evalue": "name 'numpy' is not defined",
     "output_type": "error",
     "traceback": [
      "\u001b[0;31m---------------------------------------------------------------------------\u001b[0m",
      "\u001b[0;31mNameError\u001b[0m                                 Traceback (most recent call last)",
      "\u001b[0;32m<ipython-input-15-5bb85e96ce2c>\u001b[0m in \u001b[0;36m<module>\u001b[0;34m()\u001b[0m\n\u001b[0;32m----> 1\u001b[0;31m \u001b[0mcalculate_pearson\u001b[0m\u001b[1;33m(\u001b[0m\u001b[0mX\u001b[0m\u001b[1;33m,\u001b[0m \u001b[0mY\u001b[0m\u001b[1;33m)\u001b[0m\u001b[1;33m\u001b[0m\u001b[0m\n\u001b[0m",
      "\u001b[0;32m<ipython-input-14-b6826de12f08>\u001b[0m in \u001b[0;36mcalculate_pearson\u001b[0;34m(X, Y)\u001b[0m\n\u001b[1;32m      8\u001b[0m     \u001b[0mmeanX\u001b[0m \u001b[1;33m=\u001b[0m \u001b[0mnp\u001b[0m\u001b[1;33m.\u001b[0m\u001b[0mmean\u001b[0m\u001b[1;33m(\u001b[0m\u001b[0mX\u001b[0m\u001b[1;33m)\u001b[0m\u001b[1;33m\u001b[0m\u001b[0m\n\u001b[1;32m      9\u001b[0m     \u001b[0mX_deviation\u001b[0m \u001b[1;33m=\u001b[0m \u001b[1;33m[\u001b[0m\u001b[1;33m(\u001b[0m\u001b[0mx\u001b[0m \u001b[1;33m-\u001b[0m \u001b[0mmeanX\u001b[0m\u001b[1;33m)\u001b[0m \u001b[1;32mfor\u001b[0m \u001b[0mx\u001b[0m \u001b[1;32min\u001b[0m \u001b[0mX\u001b[0m\u001b[1;33m]\u001b[0m\u001b[1;33m\u001b[0m\u001b[0m\n\u001b[0;32m---> 10\u001b[0;31m     \u001b[0mmeanY\u001b[0m \u001b[1;33m=\u001b[0m \u001b[0mnumpy\u001b[0m\u001b[1;33m.\u001b[0m\u001b[0mmean\u001b[0m\u001b[1;33m(\u001b[0m\u001b[0mY\u001b[0m\u001b[1;33m)\u001b[0m\u001b[1;33m\u001b[0m\u001b[0m\n\u001b[0m\u001b[1;32m     11\u001b[0m     \u001b[0mY_deviation\u001b[0m \u001b[1;33m=\u001b[0m \u001b[1;33m[\u001b[0m\u001b[1;33m(\u001b[0m\u001b[0my\u001b[0m \u001b[1;33m-\u001b[0m \u001b[0mmeanY\u001b[0m\u001b[1;33m)\u001b[0m \u001b[1;32mfor\u001b[0m \u001b[0my\u001b[0m \u001b[1;32min\u001b[0m \u001b[0mY\u001b[0m\u001b[1;33m]\u001b[0m\u001b[1;33m\u001b[0m\u001b[0m\n\u001b[1;32m     12\u001b[0m     \u001b[1;31m#print(X_deviation, Y_deviation)\u001b[0m\u001b[1;33m\u001b[0m\u001b[1;33m\u001b[0m\u001b[0m\n",
      "\u001b[0;31mNameError\u001b[0m: name 'numpy' is not defined"
     ]
    }
   ],
   "source": [
    "calculate_pearson(X, Y)"
   ]
  },
  {
   "cell_type": "markdown",
   "metadata": {},
   "source": [
    "<img src=\"http://imgur.com/l5NasQj.png\" style=\"float: left; margin: 25px 15px 0px 0px; height: 25px\">\n",
    "\n",
    "## Review Problem 6\n",
    "\n",
    "---\n",
    "\n",
    "For this problem you will be defining a function that calculates the [spearman rank correlation coefficient](https://en.wikipedia.org/wiki/Spearman%27s_rank_correlation_coefficient) between two lists. Spearman's rho is a measure of how related two sets of numbers are.\n",
    "\n",
    "Your function will:\n",
    "\n",
    "- Accept the provided lists of numbers defined for problem 5, `X` and `Y`.\n",
    "- Calculate the rank of the numbers in the `X` and `Y` lists. The rank is a number that defines what _index position_ each number would be if the list were in order.\n",
    "    - For example: say `list1 = [5,2,0,9,-5]`, then `list1_rank = [3,2,1,4,0]`\n",
    "    - Calculating the rank is not trivial. You can use the `rankdata()` function from `scipy.stats` on a list to get the ranks of the numbers.\n",
    "    - Assign the rank of list `X` to variable `X_rank` and list `Y` to variable `Y_rank`.\n",
    "- Manually calculate the covariance between `X_rank` and `Y_rank` as `XY_rank_cov`:\n",
    "    1. Calculate `X_mean`: the mean of `X_rank` using `np.mean()`.\n",
    "    2. Calculate `Y_mean`: the mean of `Y_rank` using `np.mean()`.\n",
    "    3. Calculate `X_deviation`: subtract `X_mean` from each element of `X_rank`.\n",
    "    4. Calculate `Y_deviation`: subtract `Y_mean` from each element of `Y_rank`.\n",
    "    5. Calculate `XY_d`: multiply `X_deviation` with `Y_deviation`, element by element. You can use pythons `zip()` function to iterate across lists at the same time:\n",
    "    ```python\n",
    "    for xd, yd in zip(X_deviation, Y_deviation):\n",
    "    ```\n",
    "    6. Calculate `sum_XY_d`: the sum of the elements in `XY_d` with `np.sum`.\n",
    "    7. Calculate `XY_rank_cov`: divide `sum_XY_d` by `len(XY_d)`.\n",
    "- Calculate the standard deviations `X_rank_std` and `Y_rank_std` of the `X_rank` and `Y_rank` lists. You can use `np.std()`.\n",
    "- Calculate the spearman rank correlation coefficient as `XY_spearman`: divide `XY_rank_cov` by `(X_rank_std * Y_rank_std)`.\n",
    "- Print `XY_spearman`.\n",
    "- Compare your value to the scipy function for spearman: print out `spearmanr(X, Y)`."
   ]
  },
  {
   "cell_type": "markdown",
   "metadata": {},
   "source": [
    "#### Define your function below:"
   ]
  },
  {
   "cell_type": "code",
   "execution_count": null,
   "metadata": {
    "collapsed": true
   },
   "outputs": [],
   "source": [
    "import numpy\n",
    "import scipy.stats\n",
    "\n",
    "# calculates the spearman rank correlation coefficient between two lists\n",
    "def spearman_rank(X, Y):\n",
    "    # calculate the rank of the numbers in both lists\n",
    "    X_rank = scipy.stats.rankdata(X)\n",
    "    Y_rank = scipy.stats.rankdata(Y)\n",
    "    #print(X_rank)\n",
    "    #print(Y_rank)\n",
    "    \n",
    "    # calculate means of X and Y ranks\n",
    "    meanX = numpy.mean(X_rank)\n",
    "    meanY = numpy.mean(Y_rank)\n",
    "    # calculate the X and Y deviations from the mean\n",
    "    X_deviation = [(x - meanX) for x in X_rank]\n",
    "    Y_deviation = [(y - meanY) for y in Y_rank]    \n",
    "    \n",
    "    # calculate X and Y deviations multiplied against each other and put in a list\n",
    "    XY_d = []\n",
    "    for xd, yd in zip(X_deviation, Y_deviation):\n",
    "        XY_d.append(xd * yd)\n",
    "\n",
    "    # calculate the sum of the elements in XY_d and divide sum_XY_d by len(XY_d)\n",
    "    sum_XY_d = numpy.sum(XY_d)\n",
    "    XY_rank_cov = sum_XY_d / len(XY_d)\n",
    "\n",
    "    # calculate the standard deviations of the X_rank and Y_rank lists\n",
    "    X_rank_std = numpy.std(X_rank)\n",
    "    Y_rank_std = numpy.std(Y_rank)\n",
    "    \n",
    "    # calculate the spearman rank correlation coefficient\n",
    "    XY_spearman = XY_rank_cov / (X_rank_std * Y_rank_std)\n",
    "    print(\"XY_spearman =\", XY_spearman)\n",
    "    \n",
    "    print(scipy.stats.spearmanr(X, Y))"
   ]
  },
  {
   "cell_type": "markdown",
   "metadata": {},
   "source": [
    "#### Run your function on lists `X` and `Y`:"
   ]
  },
  {
   "cell_type": "code",
   "execution_count": null,
   "metadata": {
    "collapsed": false
   },
   "outputs": [],
   "source": [
    "spearman_rank(X, Y)"
   ]
  },
  {
   "cell_type": "markdown",
   "metadata": {},
   "source": [
    "<img src=\"http://imgur.com/l5NasQj.png\" style=\"float: left; margin: 25px 15px 0px 0px; height: 25px\">\n",
    "\n",
    "## Review Problem 7\n",
    "\n",
    "---\n",
    "\n",
    "Write a function to calculate the [root mean squared error](https://en.wikipedia.org/wiki/Root-mean-square_deviation), often written as RMSE. The RMSE is a popular measure of performance of predictions when you have a set of **observed values** and a set of **predicted values**. Your predicted values in this case are your \"predictions\" of what the true, observed values are.\n",
    "\n",
    "Your function will:\n",
    "\n",
    "- Accept two predefined lists as arguments: ```true_values``` and ```predictions```.\n",
    "- Calculate the error between ```predictions``` and ```true_values``` as variable ```errors```:\n",
    "    - Element by element, calculate the prediction minus the true value.\n",
    "- Calculate the square of each element in ```errors``` and assign this to variable ```sq_errors```.\n",
    "- Calculate ```avg_sq_error```, the mean of ```sq_errors```.\n",
    "- Calculate ```rmse```, the square root of ```avg_sq_error``` using ```np.sqrt()```.\n",
    "- Print ```rmse```.\n",
    "- Return ```rmse```."
   ]
  },
  {
   "cell_type": "code",
   "execution_count": null,
   "metadata": {
    "collapsed": true
   },
   "outputs": [],
   "source": [
    "predictions = [14.2,5.8,4.8,12.7,5.6,-1.2,5.3,11.9,4.8,8.1,1.5,8.5,14.9,6.1,\n",
    "     6.8,12.6,15.5,24.3,15.6,16.8,22.3,22.6,26.2,19.0,24.3,26.3,\n",
    "     25.3,31.6,27.3,33.0,32.6,30.7,29.6,34.7,32.7,43.1,40.1,35.4,49.6,38.6]\n",
    "\n",
    "true_values = [-15.5,-8.5,0.8,-3.9,4.9,12.7,10.0,16.5,5.7,13.1,10.3,12.4,-1.5,\n",
    "     1.7,26.0,14.3,30.3,21.7,27.5,38.2,18.9,21.2,18.2,26.1,14.7,16.4,\n",
    "     22.8,34.3,37.1,38.9,39.1,33.8,52.2,36.5,20.7,21.6,14.5,33.6,44.5,44.2]"
   ]
  },
  {
   "cell_type": "markdown",
   "metadata": {},
   "source": [
    "#### Define your function below:"
   ]
  },
  {
   "cell_type": "code",
   "execution_count": null,
   "metadata": {
    "collapsed": true
   },
   "outputs": [],
   "source": [
    "import numpy\n",
    "\n",
    "# define a function to calculate the root mean squared error\n",
    "def root_mean_sq_error(true_values, predictions):\n",
    "    sq_errors = []\n",
    "    for tv, pv in zip(true_values, predictions):\n",
    "        # calculate the prediction minus the true value\n",
    "        errors = pv - tv\n",
    "        # calculate the square of errors and append to sq_errors list\n",
    "        sq_errors.append(errors ** 2)\n",
    "        \n",
    "    # calculate the average square error\n",
    "    avg_sq_error = numpy.mean(sq_errors)\n",
    "\n",
    "    # calcualte rmse, the square root of avg_sq_error\n",
    "    rmse = numpy.sqrt(avg_sq_error)\n",
    "    print(\"rmse =\", rmse)\n",
    "    return rmse"
   ]
  },
  {
   "cell_type": "markdown",
   "metadata": {},
   "source": [
    "#### Run your function on `true_values` and `predictions`:"
   ]
  },
  {
   "cell_type": "code",
   "execution_count": null,
   "metadata": {
    "collapsed": false
   },
   "outputs": [],
   "source": [
    "root_mean_sq_error(true_values, predictions)"
   ]
  },
  {
   "cell_type": "markdown",
   "metadata": {},
   "source": [
    "<img src=\"http://imgur.com/l5NasQj.png\" style=\"float: left; margin: 25px 15px 0px 0px; height: 25px\">\n",
    "\n",
    "## Review Problem 8\n",
    "\n",
    "---\n",
    "\n",
    "Define three functions to \"clean up\" two dictionaries and merge them together.\n",
    "\n",
    "Your first function, called ```string_intlist_cleaner``` should:\n",
    "\n",
    "- Accept one argument which will be a dictionary.\n",
    "- Iterate through the key:value pairs in the dictionary:\n",
    "    - If the key is not a **string**, remove the key:value pair from the dictionary.\n",
    "    - If the value is not a **list**, remove the key:value pair from the dictionary.\n",
    "- Return the \"cleaned\" dictionary.\n",
    "\n",
    "Your second function, called ```int_string_cleaner``` should:\n",
    "\n",
    "- Accept one argument which will be a dictionary.\n",
    "- Iterate through the key:value pairs in the dictionary:\n",
    "    - If the key is not an **integer**, remove the key:value pair from the dictionary.\n",
    "    - If the value is not a **string**, remove the key:value pair from the dictionary.\n",
    "- Return the \"cleaned\" dictionary.\n",
    "\n",
    "Your third function, called ```dict_cleaner``` should:\n",
    "\n",
    "- Accept two arguments which will be dictionaries.\n",
    "- Print the first dictionary.\n",
    "- Print the second dictionary.\n",
    "- Clean the first dictionary with ```string_intlist_cleaner()``` and assign to a variable.\n",
    "- Clean the second dictionary with ```int_string_cleaner()``` and assign to a variable\n",
    "- Combine the two cleaned dictionaries.\n",
    "- Print the combined and cleaned dictionary.\n",
    "- Return the combined and cleaned dictionary."
   ]
  },
  {
   "cell_type": "code",
   "execution_count": null,
   "metadata": {
    "collapsed": true
   },
   "outputs": [],
   "source": [
    "first_dict = {'A':(1,2), 'B':[1,2,3,4,4], 'C':[0,9], 1:(1,1,1), 12:None, 'D':None, 'E':12.777}\n",
    "second_dict = {'1':('a','b'), 2:{1:23.3}, 3:'four', 4:'five', 'five':['six', 'seven'], 8:'nine'}"
   ]
  },
  {
   "cell_type": "markdown",
   "metadata": {},
   "source": [
    "#### Define your functions below:"
   ]
  },
  {
   "cell_type": "code",
   "execution_count": null,
   "metadata": {
    "collapsed": true
   },
   "outputs": [],
   "source": [
    "# print out key/value pairs from dictionary\n",
    "def print_dict(input_dict):\n",
    "    for key, values in input_dict.items():\n",
    "        print(key, ':', values)\n",
    "\n",
    "# If the key is a string and the value is a list, keep the entry\n",
    "def string_intlist_cleaner(input_dict):\n",
    "    new_input_dict = {}\n",
    "    for keys,values in input_dict.items():\n",
    "        if isinstance(keys, str) and isinstance(values, list):\n",
    "            new_input_dict[keys] = values\n",
    "    return new_input_dict\n",
    "\n",
    "# If the key is an integer and the value is a string, keep the entry\n",
    "def int_string_cleaner(input_dict):\n",
    "    new_input_dict = {}\n",
    "    for keys,values in input_dict.items():\n",
    "        if isinstance(keys, int) and isinstance(values, str):\n",
    "            new_input_dict[keys] = values\n",
    "    return new_input_dict\n",
    "\n",
    "def dict_cleaner(input_dict1, input_dict2):\n",
    "    print(\"\\nInput dictionary 1:\")\n",
    "    print_dict(input_dict1)\n",
    "    print(\"\\nInput dictionary 2:\")\n",
    "    print_dict(input_dict2)\n",
    "        \n",
    "    clean_dict1 = string_intlist_cleaner(input_dict1)\n",
    "    clean_dict2 = int_string_cleaner(input_dict2)\n",
    "\n",
    "    # combine the two cleaned dictionaries\n",
    "    combined_dict = {**clean_dict1, **clean_dict2}\n",
    "    print(\"\\nCombined and cleaned dictionary\")\n",
    "    print_dict(combined_dict)"
   ]
  },
  {
   "cell_type": "markdown",
   "metadata": {},
   "source": [
    "#### Run `dict_cleaner` with `first_dict` and `second_dict`:"
   ]
  },
  {
   "cell_type": "code",
   "execution_count": null,
   "metadata": {
    "collapsed": false
   },
   "outputs": [],
   "source": [
    "dict_cleaner(first_dict, second_dict)"
   ]
  },
  {
   "cell_type": "markdown",
   "metadata": {},
   "source": [
    "<img src=\"http://imgur.com/l5NasQj.png\" style=\"float: left; margin: 25px 15px 0px 0px; height: 25px\">\n",
    "\n",
    "## Review Problem 9A\n",
    "\n",
    "---\n",
    "\n",
    "Load and parse stats on Pokemon (the pokedex) from a comma separated value (`.csv`) file into a list of lists.\n",
    "\n",
    "The provided code below loads information from a comma separated value (csv) file. You need to parse this string into a more useable format. The format of the string is:\n",
    "\n",
    "- Rows are separated by newline characters: `\\n`\n",
    "- Columns are separated by commas: `,`\n",
    "- All cells in the csv are double quoted. Ex: \"PokedexNumber\" is the first cell of the first row.\n",
    "\n",
    "Using `for` loops, create a list of lists where each list within the overall list is a row of the csv, and each element in that list is a cell in that row. Additional criteria:\n",
    "\n",
    "1. Remove the quotes from each cell item.\n",
    "2. Numeric column values should be converted to floats.\n",
    "3. There are some cells that are empty and have no information. For these cells put a -1 value in place.\n",
    "\n",
    "The first three lists in your pokedex list should look like:\n",
    "\n",
    "    ['PokedexNumber', 'Name', 'Type', 'Total', 'HP', 'Attack', 'Defense', 'SpecialAttack', 'SpecialDefense', 'Speed']\n",
    "    [1.0, 'Bulbasaur', 'GrassPoison', 318.0, 45.0, 49.0, 49.0, 65.0, 65.0, 45.0]\n",
    "    [2.0, 'Ivysaur', 'GrassPoison', 405.0, 60.0, 62.0, 63.0, 80.0, 80.0, 60.0]\n"
   ]
  },
  {
   "cell_type": "code",
   "execution_count": null,
   "metadata": {
    "collapsed": false
   },
   "outputs": [],
   "source": [
    "# Change this filepath to point to the location of the .csv on your own computer:\n",
    "filepath = './pokedex_basic.csv'\n",
    "\n",
    "# Code to read in pokedex info\n",
    "data = ''\n",
    "with open(filepath, 'r') as f:\n",
    "    data = f.read()"
   ]
  },
  {
   "cell_type": "markdown",
   "metadata": {},
   "source": [
    "#### Parse the file into the list of lists:"
   ]
  },
  {
   "cell_type": "code",
   "execution_count": null,
   "metadata": {
    "collapsed": true
   },
   "outputs": [],
   "source": [
    "# split on carriage returns to get each row\n",
    "data = data.split('\\n')\n",
    "# create empty list for rows\n",
    "row_data = []\n",
    "\n",
    "# loop through each row\n",
    "for row in data:\n",
    "    # split on commas to get each column\n",
    "    columns = row.split(',')\n",
    "    # remove the quotes from each cell item\n",
    "    columns = [col.strip('\"') for col in columns]\n",
    "    \n",
    "    # create empty list for columns\n",
    "    col_data = []\n",
    "    # loop through each column\n",
    "    for col in columns:\n",
    "        # convert to float where necessary, change to -1 if empty value\n",
    "        if col.isdigit():\n",
    "            col_data.append(float(col))\n",
    "        elif col == '':\n",
    "            col_data.append(-1)\n",
    "        else:\n",
    "            col_data.append(col)\n",
    "\n",
    "    row_data.append(col_data)"
   ]
  },
  {
   "cell_type": "markdown",
   "metadata": {},
   "source": [
    "#### Print out the first 3 lists"
   ]
  },
  {
   "cell_type": "code",
   "execution_count": null,
   "metadata": {
    "collapsed": false
   },
   "outputs": [],
   "source": [
    "print(row_data[0])\n",
    "print(row_data[1])\n",
    "print(row_data[2])"
   ]
  },
  {
   "cell_type": "markdown",
   "metadata": {},
   "source": [
    "<img src=\"http://imgur.com/GCAf1UX.png\" style=\"float: left; margin: 25px 15px 0px 0px; height: 25px\">\n",
    "\n",
    "## Review Problem 9.B\n",
    "\n",
    "---\n",
    "\n",
    "Perform the same parsing that you did with `for` loops in problem 9A, but **using only a nested list comprehensions**. A single list comprehension (with nested list comprehensions inside of it) should do all of the parsing of `raw_pd`, outputting the list of lists. Do not write any functions to call within the list comprehension.\n",
    "\n",
    "The output should be exactly the same as in 9A."
   ]
  },
  {
   "cell_type": "markdown",
   "metadata": {},
   "source": [
    "#### Write the nested list comprehension to parse `raw_pd`:"
   ]
  },
  {
   "cell_type": "code",
   "execution_count": null,
   "metadata": {
    "collapsed": true
   },
   "outputs": [],
   "source": [
    "import string\n",
    "\n",
    "alphabet = list(string.ascii_lowercase)\n",
    "vowels = list('aeiou')\n",
    "characters = ['a','f',None,'k','l','1',12,'e','e',-1,'i','b','p']\n",
    "converted = ['v' if x in vowels else 'c' if (x in alphabet and x not in vowels) else '?' for x in characters]\n",
    "\n",
    "# Code to read in pokedex info\n",
    "data = ''\n",
    "with open(filepath, 'r') as f:\n",
    "    data = f.read()\n",
    "\n",
    "#build up statement bit by bit\n",
    "#row_data = [row.split(',') for row in data.split('\\n')]\n",
    "#row_data = [[col.strip('\"') for col in row.split(',')] for row in data.split('\\n')]\n",
    "\n",
    "# split on carriage returns to get each row, split on commas to get each column,\n",
    "# remove the quotes from each cell item, convert to float where necessary, change to -1 if empty value\n",
    "row_data = [[float(x) if x.isdigit() else -1 if x == '' else x for x in [col.strip('\"') for col in row.split(',')]] for row in data.split('\\n')]"
   ]
  },
  {
   "cell_type": "markdown",
   "metadata": {},
   "source": [
    "#### Print the first 3 lines of your parsed pokedex:"
   ]
  },
  {
   "cell_type": "code",
   "execution_count": null,
   "metadata": {
    "collapsed": false
   },
   "outputs": [],
   "source": [
    "print(row_data[0])\n",
    "print(row_data[1])\n",
    "print(row_data[2])"
   ]
  },
  {
   "cell_type": "markdown",
   "metadata": {},
   "source": [
    "<img src=\"http://imgur.com/gGrau8s.png\" style=\"float: left; margin: 25px 15px 0px 0px; height: 25px\">\n",
    "\n",
    "### Review Problem 10\n",
    "\n",
    "---\n",
    "\n",
    "Write a function that takes a tiered dictionary of dictionaries with arbitrary depth. Your function will iterate through the dictionary, printing out the contents.\n",
    "\n",
    "Define a function that:\n",
    "\n",
    "- Accepts at least one argument, the predefined dictionary.\n",
    "- For each key:value pair, print out the key and the value.\n",
    "- If the value is also a dictionary, do the same for that dictionary, but printing out the key:value pair with tabs equivalent to the current \"depth\" indicating what level we are on.\n",
    "- Note: tab in strings is written as ```\\t```\n",
    "    \n",
    "Example:\n",
    "```python\n",
    "'key1' : 'value1'\n",
    "'key2' :\n",
    "    'key3' : 'value3'\n",
    "    'key4' : 'value4'\n",
    "    'key5' :\n",
    "        'key6': 'value6'\n",
    "'key7' : 'value7'\n",
    "```"
   ]
  },
  {
   "cell_type": "code",
   "execution_count": null,
   "metadata": {
    "collapsed": true
   },
   "outputs": [],
   "source": [
    "tiered_dict = {'T1.1':'V1.1', \n",
    "               'T1.2':'V1.2',\n",
    "               'T1.3':{'T2.1':'V2.1',\n",
    "                       'T2.2':['V2.2.1','V2.2.2'],\n",
    "                       'T2.3':{'T3.1':['V3.1.1','V3.1.2'],\n",
    "                               'T3.2':'V3.2',\n",
    "                               'T3.3':'V3.3'}},\n",
    "               'T1.4':{'T2.4':{'T3.4':{'T4.1':'V4.1',\n",
    "                                       'T4.2':'V4.2'},\n",
    "                               'T3.5':{'T4.3':'V4.3'}},\n",
    "                       'T2.5':['V2.3.1','V2.3.2']},\n",
    "               }"
   ]
  },
  {
   "cell_type": "markdown",
   "metadata": {},
   "source": [
    "#### Define your function below:"
   ]
  },
  {
   "cell_type": "code",
   "execution_count": null,
   "metadata": {
    "collapsed": true
   },
   "outputs": [],
   "source": [
    "# define a function to print a dictionary formatted with tab indentations for readability\n",
    "def dictionary_print_with_tabs(input_dict, num_tabs):\n",
    "    # add 1 to the number of tabs to print\n",
    "    num_tabs += 1\n",
    "\n",
    "    # loop through all dictionary values\n",
    "    for keys,values in input_dict.items():\n",
    "        # print number of tabs based on the depth of the dictionary level\n",
    "        print('\\t' * num_tabs, end=\"\")\n",
    "\n",
    "        if isinstance(values, dict):\n",
    "            # if we're on a dictionary print the keys only and call the function recursively\n",
    "            # to handle whatever is in the values\n",
    "            print(keys, ':')\n",
    "            dictionary_print_with_tabs(values, num_tabs)\n",
    "        else:\n",
    "            # not on a dictionary so print the keys and whatever is in values\n",
    "            print(keys, ':', values)"
   ]
  },
  {
   "cell_type": "markdown",
   "metadata": {},
   "source": [
    "#### Run your function on `tiered_dict`:"
   ]
  },
  {
   "cell_type": "code",
   "execution_count": null,
   "metadata": {
    "collapsed": false
   },
   "outputs": [],
   "source": [
    "# pass tiered_dict and pass -1 for num_tabs so first level of dictionary is printed without tab indentation\n",
    "dictionary_print_with_tabs(tiered_dict, -1)"
   ]
  }
 ],
 "metadata": {
  "kernelspec": {
   "display_name": "Python 3",
   "language": "python",
   "name": "python3"
  },
  "language_info": {
   "codemirror_mode": {
    "name": "ipython",
    "version": 3
   },
   "file_extension": ".py",
   "mimetype": "text/x-python",
   "name": "python",
   "nbconvert_exporter": "python",
   "pygments_lexer": "ipython3",
   "version": "3.6.0"
  }
 },
 "nbformat": 4,
 "nbformat_minor": 0
}
